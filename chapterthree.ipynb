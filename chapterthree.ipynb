{
 "cells": [
  {
   "cell_type": "code",
   "execution_count": null,
   "metadata": {},
   "outputs": [],
   "source": [
    "seconds_per_hour = (60*60*60)\n",
    "\n",
    "seconds_per_day = (seconds_per_hour * 24)\n",
    "\n",
    "divFloat = (seconds_per_day / seconds_per_hour)\n",
    "\n",
    "divInt = (seconds_per_day // seconds_per_hour)\n",
    "\n",
    "print(divFloat)\n",
    "print(divInt)"
   ]
  },
  {
   "cell_type": "markdown",
   "metadata": {},
   "source": [
    "The Float and Div divisions returned 24, and 24.0 respectively. Yes, the results agreed with each other"
   ]
  }
 ],
 "metadata": {
  "language_info": {
   "name": "python"
  },
  "orig_nbformat": 4
 },
 "nbformat": 4,
 "nbformat_minor": 2
}
